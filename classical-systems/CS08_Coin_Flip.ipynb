{
  "cells": [
    {
      "cell_type": "markdown",
      "metadata": {
        "id": "JSXWMh_wcOCj"
      },
      "source": [
        "<a href=\"https://qworld.net\" target=\"_blank\" align=\"left\"><img src=\"https://github.com/nikbott/bronze-qiskit/blob/master/qworld/images/header.jpg?raw=1\"  align=\"left\"></a>\n",
        "$ \\newcommand{\\bra}[1]{\\langle #1|} $\n",
        "$ \\newcommand{\\ket}[1]{|#1\\rangle} $\n",
        "$ \\newcommand{\\braket}[2]{\\langle #1|#2\\rangle} $\n",
        "$ \\newcommand{\\dot}[2]{ #1 \\cdot #2} $\n",
        "$ \\newcommand{\\biginner}[2]{\\left\\langle #1,#2\\right\\rangle} $\n",
        "$ \\newcommand{\\mymatrix}[2]{\\left( \\begin{array}{#1} #2\\end{array} \\right)} $\n",
        "$ \\newcommand{\\myvector}[1]{\\mymatrix{c}{#1}} $\n",
        "$ \\newcommand{\\myrvector}[1]{\\mymatrix{r}{#1}} $\n",
        "$ \\newcommand{\\mypar}[1]{\\left( #1 \\right)} $\n",
        "$ \\newcommand{\\mybigpar}[1]{ \\Big( #1 \\Big)} $\n",
        "$ \\newcommand{\\sqrttwo}{\\frac{1}{\\sqrt{2}}} $\n",
        "$ \\newcommand{\\dsqrttwo}{\\dfrac{1}{\\sqrt{2}}} $\n",
        "$ \\newcommand{\\onehalf}{\\frac{1}{2}} $\n",
        "$ \\newcommand{\\donehalf}{\\dfrac{1}{2}} $\n",
        "$ \\newcommand{\\hadamard}{ \\mymatrix{rr}{ \\sqrttwo & \\sqrttwo \\\\ \\sqrttwo & -\\sqrttwo }} $\n",
        "$ \\newcommand{\\vzero}{\\myvector{1\\\\0}} $\n",
        "$ \\newcommand{\\vone}{\\myvector{0\\\\1}} $\n",
        "$ \\newcommand{\\stateplus}{\\myvector{ \\sqrttwo \\\\  \\sqrttwo } } $\n",
        "$ \\newcommand{\\stateminus}{ \\myrvector{ \\sqrttwo \\\\ -\\sqrttwo } } $\n",
        "$ \\newcommand{\\myarray}[2]{ \\begin{array}{#1}#2\\end{array}} $\n",
        "$ \\newcommand{\\X}{ \\mymatrix{cc}{0 & 1 \\\\ 1 & 0}  } $\n",
        "$ \\newcommand{\\I}{ \\mymatrix{rr}{1 & 0 \\\\ 0 & 1}  } $\n",
        "$ \\newcommand{\\Z}{ \\mymatrix{rr}{1 & 0 \\\\ 0 & -1}  } $\n",
        "$ \\newcommand{\\Htwo}{ \\mymatrix{rrrr}{ \\frac{1}{2} & \\frac{1}{2} & \\frac{1}{2} & \\frac{1}{2} \\\\ \\frac{1}{2} & -\\frac{1}{2} & \\frac{1}{2} & -\\frac{1}{2} \\\\ \\frac{1}{2} & \\frac{1}{2} & -\\frac{1}{2} & -\\frac{1}{2} \\\\ \\frac{1}{2} & -\\frac{1}{2} & -\\frac{1}{2} & \\frac{1}{2} } } $\n",
        "$ \\newcommand{\\CNOT}{ \\mymatrix{cccc}{1 & 0 & 0 & 0 \\\\ 0 & 1 & 0 & 0 \\\\ 0 & 0 & 0 & 1 \\\\ 0 & 0 & 1 & 0} } $\n",
        "$ \\newcommand{\\norm}[1]{ \\left\\lVert #1 \\right\\rVert } $\n",
        "$ \\newcommand{\\pstate}[1]{ \\lceil \\mspace{-1mu} #1 \\mspace{-1.5mu} \\rfloor } $\n",
        "$ \\newcommand{\\greenbit}[1] {\\mathbf{{\\color{green}#1}}} $\n",
        "$ \\newcommand{\\bluebit}[1] {\\mathbf{{\\color{blue}#1}}} $\n",
        "$ \\newcommand{\\redbit}[1] {\\mathbf{{\\color{red}#1}}} $\n",
        "$ \\newcommand{\\brownbit}[1] {\\mathbf{{\\color{brown}#1}}} $\n",
        "$ \\newcommand{\\blackbit}[1] {\\mathbf{{\\color{black}#1}}} $"
      ]
    },
    {
      "cell_type": "markdown",
      "metadata": {
        "id": "UEuwFWDrcOCm"
      },
      "source": [
        "<font style=\"font-size:28px;\" align=\"left\"><b>Coin Flip: A Probabilistic Bit </b></font>\n",
        "<br>\n",
        "_prepared by Abuzer Yakaryilmaz_\n",
        "<br><br>\n",
        "[<img src=\"https://github.com/nikbott/bronze-qiskit/blob/master/qworld/images/watch_lecture.jpg?raw=1\" align=\"left\">](https://youtu.be/uGKHEsVcSEs)\n",
        "<br><br><br>"
      ]
    },
    {
      "cell_type": "markdown",
      "metadata": {
        "id": "Fz4eQN8ecOCo"
      },
      "source": [
        "<h3> A fair coin </h3>\n",
        "\n",
        "A coin has two sides: <i>Heads</i> and <i>Tails</i>.\n",
        "\n",
        "After flipping a coin, we get either Heads or Tails. We can represent these two different cases by a single bit:\n",
        "<ul>\n",
        "    <li> 0 represents Heads </li>\n",
        "    <li> 1 represents Tails </li>\n",
        "</ul>"
      ]
    },
    {
      "cell_type": "markdown",
      "metadata": {
        "id": "s_p0rkZYcOCp"
      },
      "source": [
        "<h3> Flipping a fair coin </h3>\n",
        "\n",
        "If our coin is fair, then the probabilities of getting Heads and Tails are equal:\n",
        "\n",
        "$ p= \\dfrac{1}{2} = 0.5 $.\n",
        "\n",
        "Flipping a fair coin can be represented as an operator:\n",
        "<ul>\n",
        "    <li> $ FairCoin(Heads) = \\frac{1}{2} Heads + \\frac{1}{2}Tails $ </li>\n",
        "    <li> $ FairCoin(Tails) \\mspace{10mu} = \\frac{1}{2} Heads + \\frac{1}{2}Tails $ </li>\n",
        "</ul>\n",
        "\n",
        "Here is its table representation:\n",
        "\n",
        "$\n",
        "FairCoin = \\begin{array}{c|cc} \\hookleftarrow & \\mathbf{Heads} & \\mathbf{Tails} \\\\ \\hline \\mathbf{Heads} & \\dfrac{1}{2} & \\dfrac{1}{2} \\\\  \\mathbf{Tails} & \\dfrac{1}{2} & \\dfrac{1}{2}  \\end{array}\n",
        "$\n",
        "\n",
        "Here is the same table by using 0 and 1 as the states:\n",
        "\n",
        "$\n",
        "FairCoin = \\begin{array}{c|cc} \\hookleftarrow & \\mathbf{0} & \\mathbf{1} \\\\ \\hline \\mathbf{0} & \\dfrac{1}{2} & \\dfrac{1}{2} \\\\  \\mathbf{1} & \\dfrac{1}{2} & \\dfrac{1}{2}  \\end{array}\n",
        "$"
      ]
    },
    {
      "cell_type": "markdown",
      "metadata": {
        "id": "0ZJ8L798cOCq"
      },
      "source": [
        "<h3> Task 1: Simulating FairCoin in Python</h3>\n",
        "\n",
        "Flip a fair coin 100 times. Calculate the total number of heads and tails, and then check the ratio of the number of heads and the number of tails.\n",
        "\n",
        "Do the same experiment 1000 times.\n",
        "\n",
        "Do the same experiment 10,000 times.\n",
        "\n",
        "Do the same experiment 100,000 times.\n",
        "\n",
        "Do your results get close to the ideal case (the numbers of heads and tails are equal)?"
      ]
    },
    {
      "cell_type": "code",
      "execution_count": 3,
      "metadata": {
        "id": "GYka3MPVcOCr",
        "outputId": "6cfbd3c4-8bbf-4b03-ceab-9f1d76e864b6",
        "colab": {
          "base_uri": "https://localhost:8080/"
        }
      },
      "outputs": [
        {
          "output_type": "stream",
          "name": "stdout",
          "text": [
            "experiment: 100\n",
            "heads = 48   tails =  52\n",
            "the ratio of #heads/#tails is 0.9231\n",
            "\n",
            "experiment: 1000\n",
            "heads = 501   tails =  499\n",
            "the ratio of #heads/#tails is 1.004\n",
            "\n",
            "experiment: 10000\n",
            "heads = 4966   tails =  5034\n",
            "the ratio of #heads/#tails is 0.9865\n",
            "\n",
            "experiment: 100000\n",
            "heads = 49907   tails =  50093\n",
            "the ratio of #heads/#tails is 0.9963\n",
            "\n"
          ]
        }
      ],
      "source": [
        "from random import randrange\n",
        "\n",
        "for experiment in [100,1000,10000,100000]:\n",
        "    heads = tails = 0\n",
        "    for i in range(experiment):\n",
        "        if randrange(2) == 0: heads = heads + 1\n",
        "        else: tails = tails + 1\n",
        "    print(\"experiment:\",experiment)\n",
        "    print(\"heads =\",heads,\"  tails = \",tails)\n",
        "    print(\"the ratio of #heads/#tails is\",(round(heads/tails,4)))\n",
        "    print() # empty line"
      ]
    },
    {
      "cell_type": "markdown",
      "metadata": {
        "id": "SVM6NTEvcOCs"
      },
      "source": [
        "<a href=\"CS08_Coin_Flip_Solutions.ipynb#task1\">click for our solution</a>"
      ]
    },
    {
      "cell_type": "markdown",
      "metadata": {
        "id": "3meg_WoUcOCs"
      },
      "source": [
        "<h3> Flipping a biased coin </h3>\n",
        "\n",
        "Our coin may have a bias.\n",
        "\n",
        "For example, the probability of getting heads is greater than the probability of getting tails.\n",
        "\n",
        "Here is an example:\n",
        "\n",
        "$\n",
        "BiasedCoin = \\begin{array}{c|cc} \\hookleftarrow & \\mathbf{Heads} & \\mathbf{Tails} \\\\ \\hline \\mathbf{Heads} & 0.6 & 0.6 \\\\  \\mathbf{Tails} & 0.4 & 0.4  \\end{array}\n",
        "$\n",
        "\n",
        "By using 0 and 1 as the states:\n",
        "\n",
        "$\n",
        "BiasedCoin = \\begin{array}{c|cc} \\hookleftarrow & \\mathbf{0} & \\mathbf{1} \\\\ \\hline \\mathbf{0} & 0.6 & 0.6\\\\  \\mathbf{1} & 0.4 & 0.4 \\end{array}\n",
        "$"
      ]
    },
    {
      "cell_type": "markdown",
      "metadata": {
        "id": "iBVYmdFZcOCt"
      },
      "source": [
        "<h3> Task 2: Simulating BiasedCoin in Python</h3>\n",
        "\n",
        "Flip the following biased coin 100 times. Calculate the total numbers of heads and tails, and then check the ratio of the number of heads and the number of tails.\n",
        "\n",
        "$\n",
        "BiasedCoin = \\begin{array}{c|cc} \\hookleftarrow & \\mathbf{Head} & \\mathbf{Tail} \\\\ \\hline \\mathbf{Head} & 0.6 & 0.6 \\\\  \\mathbf{Tail} & 0.4 & 0.4  \\end{array}\n",
        "$\n",
        "\n",
        "\n",
        "Do the same experiment 1000 times.\n",
        "\n",
        "Do the same experiment 10,000 times.\n",
        "\n",
        "Do the same experiment 100,000 times.\n",
        "\n",
        "Do your results get close to the ideal case $ \\mypar{ \\dfrac{ \\mbox{\\# of heads} }{ \\mbox{\\# of tails} } = \\dfrac{0.6}{0.4} = 1.50000000 } $?"
      ]
    },
    {
      "cell_type": "code",
      "execution_count": 2,
      "metadata": {
        "id": "dTkn2Vg5cOCu",
        "outputId": "5a992ecd-319f-4aec-9e60-78d7d318978d",
        "colab": {
          "base_uri": "https://localhost:8080/"
        }
      },
      "outputs": [
        {
          "output_type": "stream",
          "name": "stdout",
          "text": [
            "experiment: 100\n",
            "heads = 57   tails =  43\n",
            "the ratio of #heads/#tails is 1.3256\n",
            "\n",
            "experiment: 1000\n",
            "heads = 591   tails =  409\n",
            "the ratio of #heads/#tails is 1.445\n",
            "\n",
            "experiment: 10000\n",
            "heads = 5941   tails =  4059\n",
            "the ratio of #heads/#tails is 1.4637\n",
            "\n",
            "experiment: 100000\n",
            "heads = 59815   tails =  40185\n",
            "the ratio of #heads/#tails is 1.4885\n",
            "\n"
          ]
        }
      ],
      "source": [
        "from random import randrange\n",
        "\n",
        "# let's pick a random number between {0,1,...,99}\n",
        "# it is expected to be less than 60 with probability 0.6\n",
        "#     and greater than or equal to 60 with probability 0.4\n",
        "\n",
        "for experiment in [100,1000,10000,100000]:\n",
        "    heads = tails = 0\n",
        "    for i in range(experiment):\n",
        "        if randrange(100) <60: heads = heads + 1 # with probability 0.6\n",
        "        else: tails = tails + 1 # with probability 0.4\n",
        "    print(\"experiment:\",experiment)\n",
        "    print(\"heads =\",heads,\"  tails = \",tails)\n",
        "    print(\"the ratio of #heads/#tails is\",(round(heads/tails,4)))\n",
        "    print() # empty line"
      ]
    },
    {
      "cell_type": "markdown",
      "metadata": {
        "id": "oZTtbWX4cOCv"
      },
      "source": [
        "<a href=\"CS08_Coin_Flip_Solutions.ipynb#task2\">click for our solution</a>"
      ]
    },
    {
      "cell_type": "markdown",
      "metadata": {
        "id": "tYWmzbiecOCw"
      },
      "source": [
        "---\n",
        "\n",
        "<h3> Extra: Programming a biased coin </h3>\n",
        "\n",
        "We use a simple method to create a biased coin.\n",
        "\n",
        "First, we pick a range for the precision of probabilities, say $ N $, as $ N = 11, 101, 1001, \\mbox{ or }, 10^k+1 $ for some $ k > 3 $.\n",
        "\n",
        "Second, we pick the bias, say $ B $, as an integer in $ \\{0,\\ldots,N\\} $.\n",
        "\n",
        "We fix $ N $ and $ B $.\n",
        "\n",
        "Third, we pick a random integer in $ \\{0,1,\\ldots,N-1\\} $:\n",
        "<ul>\n",
        "    <li> if it is less than $ B $, we output \"Heads\" and </li>\n",
        "    <li> if it is equal to or greater than $ B $, we output \"Tails\" </li>\n",
        "</ul>\n",
        "    \n",
        "In this way, we have a biased coin \"landing on\" heads with probability $ \\frac{B}{N} $ including 0 and 1.\n",
        "\n",
        "Remark that we pick $ N = 10^k+1 $ as an odd number. In this way, the coin cannot be fair as long as $ B $ is an integer. Because, the half of an odd integer is not an integer."
      ]
    },
    {
      "cell_type": "markdown",
      "metadata": {
        "id": "0EYc_-RrcOCx"
      },
      "source": [
        "<h3> Task 3 </h3>\n",
        "\n",
        "Write a function to implement the described biased coin,\n",
        "\n",
        "The inputs are integers $N>0$ and $ B \\in \\{0,\\ldots,N\\} $.\n",
        "\n",
        "The output is either \"Heads\" or \"Tails\"."
      ]
    },
    {
      "cell_type": "code",
      "execution_count": 4,
      "metadata": {
        "id": "AJkgRBv6cOCx"
      },
      "outputs": [],
      "source": [
        "def biased_coin(N,B):\n",
        "    from random import randrange\n",
        "    random_number = randrange(N)\n",
        "    if random_number < B:\n",
        "        return \"Heads\"\n",
        "    else:\n",
        "        return \"Tails\""
      ]
    },
    {
      "cell_type": "markdown",
      "metadata": {
        "id": "SuMy4DlrcOCy"
      },
      "source": [
        "<a href=\"CS08_Coin_Flip_Solutions.ipynb#task3\">click for our solution</a>"
      ]
    },
    {
      "cell_type": "markdown",
      "metadata": {
        "id": "UkMFC8UlcOCy"
      },
      "source": [
        "<h3> Task 4</h3>\n",
        "\n",
        "We use the biased coin described in Task 3.\n",
        "\n",
        "(You may use the function given <a href=\"CS08_Coin_Flip_Solutions.ipynb#task3\">in the solution</a>.)\n",
        "\n",
        "We pick $ N $ as 101.\n",
        "\n",
        "Our task is to determine the value of $ B $ experimentially without looking its value directly.\n",
        "\n",
        "Flip the (same) biased coin 500 times, collect the statistics, and then guess the bias.\n",
        "\n",
        "Compare your guess with the actual bias by calculating the relative error in percentage (the absolute value of the difference divided by the real bias)."
      ]
    },
    {
      "cell_type": "code",
      "execution_count": 5,
      "metadata": {
        "id": "QKpU11UhcOCy",
        "outputId": "04e346fc-5b4d-48d7-d9fe-dde53eaa41c2",
        "colab": {
          "base_uri": "https://localhost:8080/"
        }
      },
      "outputs": [
        {
          "output_type": "stream",
          "name": "stdout",
          "text": [
            "my guess is 0.824\n",
            "real bias is 0.8217821782178217\n",
            "error (%) is 0.2698795180722894\n"
          ]
        }
      ],
      "source": [
        "from random import randrange\n",
        "N = 101\n",
        "B = randrange(N+1)\n",
        "total_tosses = 500\n",
        "the_number_of_heads = 0\n",
        "for i in range(total_tosses):\n",
        "    if biased_coin(N,B) == \"Heads\":\n",
        "        the_number_of_heads = the_number_of_heads + 1\n",
        "\n",
        "my_guess =  the_number_of_heads/total_tosses\n",
        "real_bias = B/N\n",
        "error = abs(my_guess-real_bias)/real_bias*100\n",
        "\n",
        "print(\"my guess is\",my_guess)\n",
        "print(\"real bias is\",real_bias)\n",
        "print(\"error (%) is\",error)"
      ]
    },
    {
      "cell_type": "markdown",
      "metadata": {
        "id": "rhruswpHcOCz"
      },
      "source": [
        "<a href=\"CS08_Coin_Flip_Solutions.ipynb#task4\">click for our solution</a>"
      ]
    }
  ],
  "metadata": {
    "kernelspec": {
      "display_name": "Python 3 (ipykernel)",
      "language": "python",
      "name": "python3"
    },
    "language_info": {
      "codemirror_mode": {
        "name": "ipython",
        "version": 3
      },
      "file_extension": ".py",
      "mimetype": "text/x-python",
      "name": "python",
      "nbconvert_exporter": "python",
      "pygments_lexer": "ipython3",
      "version": "3.10.12"
    },
    "colab": {
      "provenance": []
    }
  },
  "nbformat": 4,
  "nbformat_minor": 0
}